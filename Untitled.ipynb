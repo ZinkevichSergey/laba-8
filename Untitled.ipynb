{
 "cells": [
  {
   "cell_type": "code",
   "execution_count": 27,
   "metadata": {
    "scrolled": true
   },
   "outputs": [
    {
     "data": {
      "text/html": [
       "<a href=\"https://www.kaggle.com/axeltorbenson/us-cities-by-population-top-330\">Showing Text</a>\n"
      ],
      "text/plain": [
       "<IPython.core.display.HTML object>"
      ]
     },
     "metadata": {},
     "output_type": "display_data"
    }
   ],
   "source": [
    "%%html\n",
    "<a href=\"https://www.kaggle.com/axeltorbenson/us-cities-by-population-top-330\">Showing Text</a>"
   ]
  },
  {
   "cell_type": "code",
   "execution_count": 20,
   "metadata": {},
   "outputs": [],
   "source": [
    "import pandas as pd"
   ]
  },
  {
   "cell_type": "code",
   "execution_count": 21,
   "metadata": {
    "scrolled": true
   },
   "outputs": [],
   "source": [
    "cities_dataset=pd.read_csv(\"cities.csv\")"
   ]
  },
  {
   "cell_type": "code",
   "execution_count": 22,
   "metadata": {},
   "outputs": [
    {
     "data": {
      "text/html": [
       "<div>\n",
       "<style scoped>\n",
       "    .dataframe tbody tr th:only-of-type {\n",
       "        vertical-align: middle;\n",
       "    }\n",
       "\n",
       "    .dataframe tbody tr th {\n",
       "        vertical-align: top;\n",
       "    }\n",
       "\n",
       "    .dataframe thead th {\n",
       "        text-align: right;\n",
       "    }\n",
       "</style>\n",
       "<table border=\"1\" class=\"dataframe\">\n",
       "  <thead>\n",
       "    <tr style=\"text-align: right;\">\n",
       "      <th></th>\n",
       "      <th>rank</th>\n",
       "      <th>city</th>\n",
       "      <th>state</th>\n",
       "      <th>2020_census</th>\n",
       "      <th>2010_census</th>\n",
       "      <th>percent_change</th>\n",
       "      <th>land_area_mi</th>\n",
       "      <th>land_area_km</th>\n",
       "      <th>pop_density_mi</th>\n",
       "      <th>pop_density_km</th>\n",
       "      <th>degrees_north</th>\n",
       "      <th>degrees_west</th>\n",
       "    </tr>\n",
       "  </thead>\n",
       "  <tbody>\n",
       "    <tr>\n",
       "      <th>0</th>\n",
       "      <td>1</td>\n",
       "      <td>New York</td>\n",
       "      <td>New York</td>\n",
       "      <td>8804190</td>\n",
       "      <td>8175133.0</td>\n",
       "      <td>7.69</td>\n",
       "      <td>300.5</td>\n",
       "      <td>778.3</td>\n",
       "      <td>29298</td>\n",
       "      <td>11312</td>\n",
       "      <td>40.66</td>\n",
       "      <td>73.93</td>\n",
       "    </tr>\n",
       "    <tr>\n",
       "      <th>1</th>\n",
       "      <td>2</td>\n",
       "      <td>Los Angeles</td>\n",
       "      <td>California</td>\n",
       "      <td>3898747</td>\n",
       "      <td>3792621.0</td>\n",
       "      <td>2.80</td>\n",
       "      <td>469.5</td>\n",
       "      <td>1216.0</td>\n",
       "      <td>8304</td>\n",
       "      <td>3206</td>\n",
       "      <td>34.01</td>\n",
       "      <td>118.41</td>\n",
       "    </tr>\n",
       "    <tr>\n",
       "      <th>2</th>\n",
       "      <td>3</td>\n",
       "      <td>Chicago</td>\n",
       "      <td>Illinois</td>\n",
       "      <td>2746388</td>\n",
       "      <td>2695598.0</td>\n",
       "      <td>1.88</td>\n",
       "      <td>227.7</td>\n",
       "      <td>589.7</td>\n",
       "      <td>12061</td>\n",
       "      <td>4657</td>\n",
       "      <td>41.83</td>\n",
       "      <td>87.68</td>\n",
       "    </tr>\n",
       "    <tr>\n",
       "      <th>3</th>\n",
       "      <td>4</td>\n",
       "      <td>Houston</td>\n",
       "      <td>Texas</td>\n",
       "      <td>2304580</td>\n",
       "      <td>2099451.0</td>\n",
       "      <td>9.77</td>\n",
       "      <td>640.4</td>\n",
       "      <td>1658.6</td>\n",
       "      <td>3599</td>\n",
       "      <td>1390</td>\n",
       "      <td>29.78</td>\n",
       "      <td>95.39</td>\n",
       "    </tr>\n",
       "    <tr>\n",
       "      <th>4</th>\n",
       "      <td>5</td>\n",
       "      <td>Phoenix</td>\n",
       "      <td>Arizona</td>\n",
       "      <td>1608139</td>\n",
       "      <td>1445632.0</td>\n",
       "      <td>11.24</td>\n",
       "      <td>518.0</td>\n",
       "      <td>1341.6</td>\n",
       "      <td>3105</td>\n",
       "      <td>1199</td>\n",
       "      <td>33.57</td>\n",
       "      <td>112.09</td>\n",
       "    </tr>\n",
       "    <tr>\n",
       "      <th>...</th>\n",
       "      <td>...</td>\n",
       "      <td>...</td>\n",
       "      <td>...</td>\n",
       "      <td>...</td>\n",
       "      <td>...</td>\n",
       "      <td>...</td>\n",
       "      <td>...</td>\n",
       "      <td>...</td>\n",
       "      <td>...</td>\n",
       "      <td>...</td>\n",
       "      <td>...</td>\n",
       "      <td>...</td>\n",
       "    </tr>\n",
       "    <tr>\n",
       "      <th>321</th>\n",
       "      <td>322</td>\n",
       "      <td>Federal Way</td>\n",
       "      <td>Washington</td>\n",
       "      <td>101030</td>\n",
       "      <td>89306.0</td>\n",
       "      <td>13.13</td>\n",
       "      <td>22.3</td>\n",
       "      <td>57.8</td>\n",
       "      <td>4530</td>\n",
       "      <td>1750</td>\n",
       "      <td>47.32</td>\n",
       "      <td>122.35</td>\n",
       "    </tr>\n",
       "    <tr>\n",
       "      <th>322</th>\n",
       "      <td>323</td>\n",
       "      <td>Clinton</td>\n",
       "      <td>Michigan</td>\n",
       "      <td>100513</td>\n",
       "      <td>96796.0</td>\n",
       "      <td>3.84</td>\n",
       "      <td>28.1</td>\n",
       "      <td>72.8</td>\n",
       "      <td>3577</td>\n",
       "      <td>1381</td>\n",
       "      <td>42.59</td>\n",
       "      <td>82.92</td>\n",
       "    </tr>\n",
       "    <tr>\n",
       "      <th>323</th>\n",
       "      <td>324</td>\n",
       "      <td>Edinburg</td>\n",
       "      <td>Texas</td>\n",
       "      <td>100243</td>\n",
       "      <td>77100.0</td>\n",
       "      <td>30.02</td>\n",
       "      <td>44.7</td>\n",
       "      <td>115.8</td>\n",
       "      <td>2243</td>\n",
       "      <td>866</td>\n",
       "      <td>26.30</td>\n",
       "      <td>98.16</td>\n",
       "    </tr>\n",
       "    <tr>\n",
       "      <th>324</th>\n",
       "      <td>325</td>\n",
       "      <td>Nampa</td>\n",
       "      <td>Idaho</td>\n",
       "      <td>100200</td>\n",
       "      <td>81557.0</td>\n",
       "      <td>22.86</td>\n",
       "      <td>33.5</td>\n",
       "      <td>86.8</td>\n",
       "      <td>2991</td>\n",
       "      <td>1155</td>\n",
       "      <td>43.57</td>\n",
       "      <td>116.56</td>\n",
       "    </tr>\n",
       "    <tr>\n",
       "      <th>325</th>\n",
       "      <td>326</td>\n",
       "      <td>Roanoke</td>\n",
       "      <td>Virginia</td>\n",
       "      <td>100011</td>\n",
       "      <td>97032.0</td>\n",
       "      <td>3.07</td>\n",
       "      <td>42.5</td>\n",
       "      <td>110.1</td>\n",
       "      <td>2353</td>\n",
       "      <td>908</td>\n",
       "      <td>37.27</td>\n",
       "      <td>79.93</td>\n",
       "    </tr>\n",
       "  </tbody>\n",
       "</table>\n",
       "<p>326 rows × 12 columns</p>\n",
       "</div>"
      ],
      "text/plain": [
       "     rank         city       state  2020_census  2010_census  percent_change  \\\n",
       "0       1     New York    New York      8804190    8175133.0            7.69   \n",
       "1       2  Los Angeles  California      3898747    3792621.0            2.80   \n",
       "2       3      Chicago    Illinois      2746388    2695598.0            1.88   \n",
       "3       4      Houston       Texas      2304580    2099451.0            9.77   \n",
       "4       5      Phoenix     Arizona      1608139    1445632.0           11.24   \n",
       "..    ...          ...         ...          ...          ...             ...   \n",
       "321   322  Federal Way  Washington       101030      89306.0           13.13   \n",
       "322   323      Clinton    Michigan       100513      96796.0            3.84   \n",
       "323   324     Edinburg       Texas       100243      77100.0           30.02   \n",
       "324   325        Nampa       Idaho       100200      81557.0           22.86   \n",
       "325   326      Roanoke    Virginia       100011      97032.0            3.07   \n",
       "\n",
       "     land_area_mi  land_area_km  pop_density_mi  pop_density_km  \\\n",
       "0           300.5         778.3           29298           11312   \n",
       "1           469.5        1216.0            8304            3206   \n",
       "2           227.7         589.7           12061            4657   \n",
       "3           640.4        1658.6            3599            1390   \n",
       "4           518.0        1341.6            3105            1199   \n",
       "..            ...           ...             ...             ...   \n",
       "321          22.3          57.8            4530            1750   \n",
       "322          28.1          72.8            3577            1381   \n",
       "323          44.7         115.8            2243             866   \n",
       "324          33.5          86.8            2991            1155   \n",
       "325          42.5         110.1            2353             908   \n",
       "\n",
       "     degrees_north  degrees_west  \n",
       "0            40.66         73.93  \n",
       "1            34.01        118.41  \n",
       "2            41.83         87.68  \n",
       "3            29.78         95.39  \n",
       "4            33.57        112.09  \n",
       "..             ...           ...  \n",
       "321          47.32        122.35  \n",
       "322          42.59         82.92  \n",
       "323          26.30         98.16  \n",
       "324          43.57        116.56  \n",
       "325          37.27         79.93  \n",
       "\n",
       "[326 rows x 12 columns]"
      ]
     },
     "execution_count": 22,
     "metadata": {},
     "output_type": "execute_result"
    }
   ],
   "source": [
    "cities_dataset"
   ]
  },
  {
   "cell_type": "code",
   "execution_count": 23,
   "metadata": {},
   "outputs": [
    {
     "data": {
      "text/plain": [
       "(326, 12)"
      ]
     },
     "execution_count": 23,
     "metadata": {},
     "output_type": "execute_result"
    }
   ],
   "source": [
    "cities_dataset.shape"
   ]
  },
  {
   "cell_type": "code",
   "execution_count": 24,
   "metadata": {},
   "outputs": [
    {
     "data": {
      "text/plain": [
       "Index(['rank', 'city', 'state', '2020_census', '2010_census', 'percent_change',\n",
       "       'land_area_mi', 'land_area_km', 'pop_density_mi', 'pop_density_km',\n",
       "       'degrees_north', 'degrees_west'],\n",
       "      dtype='object')"
      ]
     },
     "execution_count": 24,
     "metadata": {},
     "output_type": "execute_result"
    }
   ],
   "source": [
    "cities_dataset.columns"
   ]
  },
  {
   "cell_type": "code",
   "execution_count": 26,
   "metadata": {},
   "outputs": [
    {
     "data": {
      "text/html": [
       "<div>\n",
       "<style scoped>\n",
       "    .dataframe tbody tr th:only-of-type {\n",
       "        vertical-align: middle;\n",
       "    }\n",
       "\n",
       "    .dataframe tbody tr th {\n",
       "        vertical-align: top;\n",
       "    }\n",
       "\n",
       "    .dataframe thead th {\n",
       "        text-align: right;\n",
       "    }\n",
       "</style>\n",
       "<table border=\"1\" class=\"dataframe\">\n",
       "  <thead>\n",
       "    <tr style=\"text-align: right;\">\n",
       "      <th></th>\n",
       "      <th>percent_change</th>\n",
       "      <th>land_area_mi</th>\n",
       "    </tr>\n",
       "  </thead>\n",
       "  <tbody>\n",
       "    <tr>\n",
       "      <th>0</th>\n",
       "      <td>7.69</td>\n",
       "      <td>300.5</td>\n",
       "    </tr>\n",
       "    <tr>\n",
       "      <th>1</th>\n",
       "      <td>2.80</td>\n",
       "      <td>469.5</td>\n",
       "    </tr>\n",
       "    <tr>\n",
       "      <th>2</th>\n",
       "      <td>1.88</td>\n",
       "      <td>227.7</td>\n",
       "    </tr>\n",
       "    <tr>\n",
       "      <th>3</th>\n",
       "      <td>9.77</td>\n",
       "      <td>640.4</td>\n",
       "    </tr>\n",
       "    <tr>\n",
       "      <th>4</th>\n",
       "      <td>11.24</td>\n",
       "      <td>518.0</td>\n",
       "    </tr>\n",
       "  </tbody>\n",
       "</table>\n",
       "</div>"
      ],
      "text/plain": [
       "   percent_change  land_area_mi\n",
       "0            7.69         300.5\n",
       "1            2.80         469.5\n",
       "2            1.88         227.7\n",
       "3            9.77         640.4\n",
       "4           11.24         518.0"
      ]
     },
     "execution_count": 26,
     "metadata": {},
     "output_type": "execute_result"
    }
   ],
   "source": [
    "cities_dataset[['percent_change', 'land_area_mi']].head()"
   ]
  },
  {
   "cell_type": "code",
   "execution_count": 31,
   "metadata": {},
   "outputs": [
    {
     "data": {
      "text/plain": [
       "rank                      1\n",
       "city               New York\n",
       "state              New York\n",
       "2020_census         8804190\n",
       "2010_census       8175133.0\n",
       "percent_change         7.69\n",
       "land_area_mi          300.5\n",
       "land_area_km          778.3\n",
       "pop_density_mi        29298\n",
       "pop_density_km        11312\n",
       "degrees_north         40.66\n",
       "degrees_west          73.93\n",
       "Name: 0, dtype: object"
      ]
     },
     "execution_count": 31,
     "metadata": {},
     "output_type": "execute_result"
    }
   ],
   "source": [
    "cities_dataset.iloc[0]"
   ]
  },
  {
   "cell_type": "code",
   "execution_count": 32,
   "metadata": {},
   "outputs": [
    {
     "data": {
      "text/plain": [
       "Springfield    3\n",
       "Lakewood       2\n",
       "Glendale       2\n",
       "Columbia       2\n",
       "Aurora         2\n",
       "              ..\n",
       "Yonkers        1\n",
       "Des Moines     1\n",
       "Huntsville     1\n",
       "Modesto        1\n",
       "Roanoke        1\n",
       "Name: city, Length: 313, dtype: int64"
      ]
     },
     "execution_count": 32,
     "metadata": {},
     "output_type": "execute_result"
    }
   ],
   "source": [
    "cities_dataset['city'].value_counts()"
   ]
  },
  {
   "cell_type": "code",
   "execution_count": 34,
   "metadata": {},
   "outputs": [
    {
     "data": {
      "text/html": [
       "<div>\n",
       "<style scoped>\n",
       "    .dataframe tbody tr th:only-of-type {\n",
       "        vertical-align: middle;\n",
       "    }\n",
       "\n",
       "    .dataframe tbody tr th {\n",
       "        vertical-align: top;\n",
       "    }\n",
       "\n",
       "    .dataframe thead th {\n",
       "        text-align: right;\n",
       "    }\n",
       "</style>\n",
       "<table border=\"1\" class=\"dataframe\">\n",
       "  <thead>\n",
       "    <tr style=\"text-align: right;\">\n",
       "      <th></th>\n",
       "      <th>rank</th>\n",
       "      <th>city</th>\n",
       "      <th>state</th>\n",
       "      <th>2020_census</th>\n",
       "      <th>2010_census</th>\n",
       "      <th>percent_change</th>\n",
       "      <th>land_area_mi</th>\n",
       "      <th>land_area_km</th>\n",
       "      <th>pop_density_mi</th>\n",
       "      <th>pop_density_km</th>\n",
       "      <th>degrees_north</th>\n",
       "      <th>degrees_west</th>\n",
       "    </tr>\n",
       "  </thead>\n",
       "  <tbody>\n",
       "    <tr>\n",
       "      <th>1</th>\n",
       "      <td>2</td>\n",
       "      <td>Los Angeles</td>\n",
       "      <td>California</td>\n",
       "      <td>3898747</td>\n",
       "      <td>3792621.0</td>\n",
       "      <td>2.80</td>\n",
       "      <td>469.5</td>\n",
       "      <td>1216.0</td>\n",
       "      <td>8304</td>\n",
       "      <td>3206</td>\n",
       "      <td>34.01</td>\n",
       "      <td>118.41</td>\n",
       "    </tr>\n",
       "    <tr>\n",
       "      <th>2</th>\n",
       "      <td>3</td>\n",
       "      <td>Chicago</td>\n",
       "      <td>Illinois</td>\n",
       "      <td>2746388</td>\n",
       "      <td>2695598.0</td>\n",
       "      <td>1.88</td>\n",
       "      <td>227.7</td>\n",
       "      <td>589.7</td>\n",
       "      <td>12061</td>\n",
       "      <td>4657</td>\n",
       "      <td>41.83</td>\n",
       "      <td>87.68</td>\n",
       "    </tr>\n",
       "    <tr>\n",
       "      <th>3</th>\n",
       "      <td>4</td>\n",
       "      <td>Houston</td>\n",
       "      <td>Texas</td>\n",
       "      <td>2304580</td>\n",
       "      <td>2099451.0</td>\n",
       "      <td>9.77</td>\n",
       "      <td>640.4</td>\n",
       "      <td>1658.6</td>\n",
       "      <td>3599</td>\n",
       "      <td>1390</td>\n",
       "      <td>29.78</td>\n",
       "      <td>95.39</td>\n",
       "    </tr>\n",
       "    <tr>\n",
       "      <th>4</th>\n",
       "      <td>5</td>\n",
       "      <td>Phoenix</td>\n",
       "      <td>Arizona</td>\n",
       "      <td>1608139</td>\n",
       "      <td>1445632.0</td>\n",
       "      <td>11.24</td>\n",
       "      <td>518.0</td>\n",
       "      <td>1341.6</td>\n",
       "      <td>3105</td>\n",
       "      <td>1199</td>\n",
       "      <td>33.57</td>\n",
       "      <td>112.09</td>\n",
       "    </tr>\n",
       "  </tbody>\n",
       "</table>\n",
       "</div>"
      ],
      "text/plain": [
       "   rank         city       state  2020_census  2010_census  percent_change  \\\n",
       "1     2  Los Angeles  California      3898747    3792621.0            2.80   \n",
       "2     3      Chicago    Illinois      2746388    2695598.0            1.88   \n",
       "3     4      Houston       Texas      2304580    2099451.0            9.77   \n",
       "4     5      Phoenix     Arizona      1608139    1445632.0           11.24   \n",
       "\n",
       "   land_area_mi  land_area_km  pop_density_mi  pop_density_km  degrees_north  \\\n",
       "1         469.5        1216.0            8304            3206          34.01   \n",
       "2         227.7         589.7           12061            4657          41.83   \n",
       "3         640.4        1658.6            3599            1390          29.78   \n",
       "4         518.0        1341.6            3105            1199          33.57   \n",
       "\n",
       "   degrees_west  \n",
       "1        118.41  \n",
       "2         87.68  \n",
       "3         95.39  \n",
       "4        112.09  "
      ]
     },
     "execution_count": 34,
     "metadata": {},
     "output_type": "execute_result"
    }
   ],
   "source": [
    "cities_dataset.loc[1:4]"
   ]
  },
  {
   "cell_type": "code",
   "execution_count": 35,
   "metadata": {},
   "outputs": [
    {
     "data": {
      "text/html": [
       "<div>\n",
       "<style scoped>\n",
       "    .dataframe tbody tr th:only-of-type {\n",
       "        vertical-align: middle;\n",
       "    }\n",
       "\n",
       "    .dataframe tbody tr th {\n",
       "        vertical-align: top;\n",
       "    }\n",
       "\n",
       "    .dataframe thead th {\n",
       "        text-align: right;\n",
       "    }\n",
       "</style>\n",
       "<table border=\"1\" class=\"dataframe\">\n",
       "  <thead>\n",
       "    <tr style=\"text-align: right;\">\n",
       "      <th></th>\n",
       "      <th>rank</th>\n",
       "      <th>2020_census</th>\n",
       "      <th>2010_census</th>\n",
       "      <th>percent_change</th>\n",
       "      <th>land_area_mi</th>\n",
       "      <th>land_area_km</th>\n",
       "      <th>pop_density_mi</th>\n",
       "      <th>pop_density_km</th>\n",
       "      <th>degrees_north</th>\n",
       "      <th>degrees_west</th>\n",
       "    </tr>\n",
       "  </thead>\n",
       "  <tbody>\n",
       "    <tr>\n",
       "      <th>count</th>\n",
       "      <td>326.000000</td>\n",
       "      <td>3.260000e+02</td>\n",
       "      <td>3.250000e+02</td>\n",
       "      <td>325.000000</td>\n",
       "      <td>326.000000</td>\n",
       "      <td>326.000000</td>\n",
       "      <td>326.000000</td>\n",
       "      <td>326.000000</td>\n",
       "      <td>326.000000</td>\n",
       "      <td>326.000000</td>\n",
       "    </tr>\n",
       "    <tr>\n",
       "      <th>mean</th>\n",
       "      <td>163.500000</td>\n",
       "      <td>2.976839e+05</td>\n",
       "      <td>2.733636e+05</td>\n",
       "      <td>11.564892</td>\n",
       "      <td>92.323620</td>\n",
       "      <td>239.118098</td>\n",
       "      <td>4235.938650</td>\n",
       "      <td>1635.328221</td>\n",
       "      <td>36.580920</td>\n",
       "      <td>98.628006</td>\n",
       "    </tr>\n",
       "    <tr>\n",
       "      <th>std</th>\n",
       "      <td>94.252321</td>\n",
       "      <td>5.916290e+05</td>\n",
       "      <td>5.542091e+05</td>\n",
       "      <td>10.085713</td>\n",
       "      <td>134.028747</td>\n",
       "      <td>347.133445</td>\n",
       "      <td>3368.432333</td>\n",
       "      <td>1299.949239</td>\n",
       "      <td>5.288578</td>\n",
       "      <td>17.352384</td>\n",
       "    </tr>\n",
       "    <tr>\n",
       "      <th>min</th>\n",
       "      <td>1.000000</td>\n",
       "      <td>1.000110e+05</td>\n",
       "      <td>7.509200e+04</td>\n",
       "      <td>0.110000</td>\n",
       "      <td>6.400000</td>\n",
       "      <td>16.600000</td>\n",
       "      <td>171.000000</td>\n",
       "      <td>66.000000</td>\n",
       "      <td>21.320000</td>\n",
       "      <td>70.930000</td>\n",
       "    </tr>\n",
       "    <tr>\n",
       "      <th>25%</th>\n",
       "      <td>82.250000</td>\n",
       "      <td>1.173272e+05</td>\n",
       "      <td>1.067690e+05</td>\n",
       "      <td>4.900000</td>\n",
       "      <td>33.650000</td>\n",
       "      <td>87.125000</td>\n",
       "      <td>2269.500000</td>\n",
       "      <td>876.500000</td>\n",
       "      <td>33.322500</td>\n",
       "      <td>83.022500</td>\n",
       "    </tr>\n",
       "    <tr>\n",
       "      <th>50%</th>\n",
       "      <td>163.500000</td>\n",
       "      <td>1.584065e+05</td>\n",
       "      <td>1.461990e+05</td>\n",
       "      <td>9.400000</td>\n",
       "      <td>55.350000</td>\n",
       "      <td>143.350000</td>\n",
       "      <td>3383.500000</td>\n",
       "      <td>1307.000000</td>\n",
       "      <td>36.110000</td>\n",
       "      <td>96.690000</td>\n",
       "    </tr>\n",
       "    <tr>\n",
       "      <th>75%</th>\n",
       "      <td>244.750000</td>\n",
       "      <td>2.640952e+05</td>\n",
       "      <td>2.332090e+05</td>\n",
       "      <td>14.860000</td>\n",
       "      <td>103.125000</td>\n",
       "      <td>267.100000</td>\n",
       "      <td>4808.000000</td>\n",
       "      <td>1856.500000</td>\n",
       "      <td>40.582500</td>\n",
       "      <td>117.337500</td>\n",
       "    </tr>\n",
       "    <tr>\n",
       "      <th>max</th>\n",
       "      <td>326.000000</td>\n",
       "      <td>8.804190e+06</td>\n",
       "      <td>8.175133e+06</td>\n",
       "      <td>72.240000</td>\n",
       "      <td>1706.800000</td>\n",
       "      <td>4420.600000</td>\n",
       "      <td>29298.000000</td>\n",
       "      <td>11312.000000</td>\n",
       "      <td>61.170000</td>\n",
       "      <td>157.840000</td>\n",
       "    </tr>\n",
       "  </tbody>\n",
       "</table>\n",
       "</div>"
      ],
      "text/plain": [
       "             rank   2020_census   2010_census  percent_change  land_area_mi  \\\n",
       "count  326.000000  3.260000e+02  3.250000e+02      325.000000    326.000000   \n",
       "mean   163.500000  2.976839e+05  2.733636e+05       11.564892     92.323620   \n",
       "std     94.252321  5.916290e+05  5.542091e+05       10.085713    134.028747   \n",
       "min      1.000000  1.000110e+05  7.509200e+04        0.110000      6.400000   \n",
       "25%     82.250000  1.173272e+05  1.067690e+05        4.900000     33.650000   \n",
       "50%    163.500000  1.584065e+05  1.461990e+05        9.400000     55.350000   \n",
       "75%    244.750000  2.640952e+05  2.332090e+05       14.860000    103.125000   \n",
       "max    326.000000  8.804190e+06  8.175133e+06       72.240000   1706.800000   \n",
       "\n",
       "       land_area_km  pop_density_mi  pop_density_km  degrees_north  \\\n",
       "count    326.000000      326.000000      326.000000     326.000000   \n",
       "mean     239.118098     4235.938650     1635.328221      36.580920   \n",
       "std      347.133445     3368.432333     1299.949239       5.288578   \n",
       "min       16.600000      171.000000       66.000000      21.320000   \n",
       "25%       87.125000     2269.500000      876.500000      33.322500   \n",
       "50%      143.350000     3383.500000     1307.000000      36.110000   \n",
       "75%      267.100000     4808.000000     1856.500000      40.582500   \n",
       "max     4420.600000    29298.000000    11312.000000      61.170000   \n",
       "\n",
       "       degrees_west  \n",
       "count    326.000000  \n",
       "mean      98.628006  \n",
       "std       17.352384  \n",
       "min       70.930000  \n",
       "25%       83.022500  \n",
       "50%       96.690000  \n",
       "75%      117.337500  \n",
       "max      157.840000  "
      ]
     },
     "execution_count": 35,
     "metadata": {},
     "output_type": "execute_result"
    }
   ],
   "source": [
    "cities_dataset.describe()"
   ]
  },
  {
   "cell_type": "code",
   "execution_count": 43,
   "metadata": {},
   "outputs": [
    {
     "data": {
      "text/html": [
       "<div>\n",
       "<style scoped>\n",
       "    .dataframe tbody tr th:only-of-type {\n",
       "        vertical-align: middle;\n",
       "    }\n",
       "\n",
       "    .dataframe tbody tr th {\n",
       "        vertical-align: top;\n",
       "    }\n",
       "\n",
       "    .dataframe thead th {\n",
       "        text-align: right;\n",
       "    }\n",
       "</style>\n",
       "<table border=\"1\" class=\"dataframe\">\n",
       "  <thead>\n",
       "    <tr style=\"text-align: right;\">\n",
       "      <th></th>\n",
       "      <th>rank</th>\n",
       "      <th>city</th>\n",
       "      <th>state</th>\n",
       "      <th>2020_census</th>\n",
       "      <th>2010_census</th>\n",
       "      <th>percent_change</th>\n",
       "      <th>land_area_mi</th>\n",
       "      <th>land_area_km</th>\n",
       "      <th>pop_density_mi</th>\n",
       "      <th>pop_density_km</th>\n",
       "      <th>degrees_north</th>\n",
       "      <th>degrees_west</th>\n",
       "    </tr>\n",
       "  </thead>\n",
       "  <tbody>\n",
       "    <tr>\n",
       "      <th>0</th>\n",
       "      <td>1</td>\n",
       "      <td>New York</td>\n",
       "      <td>New York</td>\n",
       "      <td>8804190</td>\n",
       "      <td>8175133.0</td>\n",
       "      <td>7.69</td>\n",
       "      <td>300.5</td>\n",
       "      <td>778.3</td>\n",
       "      <td>29298</td>\n",
       "      <td>11312</td>\n",
       "      <td>40.66</td>\n",
       "      <td>73.93</td>\n",
       "    </tr>\n",
       "  </tbody>\n",
       "</table>\n",
       "</div>"
      ],
      "text/plain": [
       "   rank      city     state  2020_census  2010_census  percent_change  \\\n",
       "0     1  New York  New York      8804190    8175133.0            7.69   \n",
       "\n",
       "   land_area_mi  land_area_km  pop_density_mi  pop_density_km  degrees_north  \\\n",
       "0         300.5         778.3           29298           11312          40.66   \n",
       "\n",
       "   degrees_west  \n",
       "0         73.93  "
      ]
     },
     "execution_count": 43,
     "metadata": {},
     "output_type": "execute_result"
    }
   ],
   "source": [
    "cities_dataset[cities_dataset.land_area_mi == 300.5].head()"
   ]
  },
  {
   "cell_type": "code",
   "execution_count": 44,
   "metadata": {},
   "outputs": [],
   "source": [
    "%matplotlib inline "
   ]
  },
  {
   "cell_type": "code",
   "execution_count": 46,
   "metadata": {},
   "outputs": [
    {
     "data": {
      "text/plain": [
       "<AxesSubplot:>"
      ]
     },
     "execution_count": 46,
     "metadata": {},
     "output_type": "execute_result"
    },
    {
     "data": {
      "image/png": "[encoded data removed]",
      "text/plain": [
       "<Figure size 432x288 with 1 Axes>"
      ]
     },
     "metadata": {
      "needs_background": "light"
     },
     "output_type": "display_data"
    }
   ],
   "source": [
    "cities_dataset.land_area_mi.hist()"
   ]
  },
  {
   "cell_type": "code",
   "execution_count": 47,
   "metadata": {},
   "outputs": [
    {
     "data": {
      "text/plain": [
       "<AxesSubplot:>"
      ]
     },
     "execution_count": 47,
     "metadata": {},
     "output_type": "execute_result"
    },
    {
     "data": {
      "image/png": "[encoded data removed]",
      "text/plain": [
       "<Figure size 432x288 with 1 Axes>"
      ]
     },
     "metadata": {
      "needs_background": "light"
     },
     "output_type": "display_data"
    }
   ],
   "source": [
    "cities_dataset.percent_change.hist()"
   ]
  },
  {
   "cell_type": "code",
   "execution_count": null,
   "metadata": {},
   "outputs": [],
   "source": []
  },
  {
   "cell_type": "code",
   "execution_count": null,
   "metadata": {},
   "outputs": [],
   "source": []
  }
 ],
 "metadata": {
  "kernelspec": {
   "display_name": "Python 3 (ipykernel)",
   "language": "python",
   "name": "python3"
  },
  "language_info": {
   "codemirror_mode": {
    "name": "ipython",
    "version": 3
   },
   "file_extension": ".py",
   "mimetype": "text/x-python",
   "name": "python",
   "nbconvert_exporter": "python",
   "pygments_lexer": "ipython3",
   "version": "3.9.7"
  }
 },
 "nbformat": 4,
 "nbformat_minor": 4
}
